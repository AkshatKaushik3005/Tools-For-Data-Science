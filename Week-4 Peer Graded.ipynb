{
 "cells": [
  {
   "cell_type": "markdown",
   "id": "a09a808f",
   "metadata": {},
   "source": [
    "# My Jupyter Notebook on IBM Watson Studio"
   ]
  },
  {
   "cell_type": "markdown",
   "id": "7c212cce",
   "metadata": {},
   "source": [
    "**Akshat Kaushik\n",
    "Current Occupation - Student**"
   ]
  },
  {
   "cell_type": "markdown",
   "id": "83b35f56",
   "metadata": {},
   "source": [
    "*I am interested in data science beacuse it allows one to derive meaningful data and derive conclusions from it*"
   ]
  },
  {
   "cell_type": "markdown",
   "id": "1f84a0d3",
   "metadata": {},
   "source": [
    "### This Code is used to perform addition of two arrays"
   ]
  },
  {
   "cell_type": "code",
   "execution_count": 2,
   "id": "d167ce78",
   "metadata": {},
   "outputs": [
    {
     "name": "stdout",
     "output_type": "stream",
     "text": [
      "Sum of the array is  34\n"
     ]
    }
   ],
   "source": [
    "def _sum(arr):\t\n",
    "\tsum=0\n",
    "\tfor i in arr:\n",
    "\t\tsum = sum + i\n",
    "\treturn(sum)\n",
    "arr=[]\n",
    "arr = [12, 3, 4, 15]\n",
    "n = len(arr)\n",
    "ans = _sum(arr)\n",
    "print ('Sum of the array is ', ans)\n"
   ]
  },
  {
   "cell_type": "code",
   "execution_count": null,
   "id": "944623dd",
   "metadata": {},
   "outputs": [],
   "source": []
  }
 ],
 "metadata": {
  "kernelspec": {
   "display_name": "Python 3 (ipykernel)",
   "language": "python",
   "name": "python3"
  },
  "language_info": {
   "codemirror_mode": {
    "name": "ipython",
    "version": 3
   },
   "file_extension": ".py",
   "mimetype": "text/x-python",
   "name": "python",
   "nbconvert_exporter": "python",
   "pygments_lexer": "ipython3",
   "version": "3.9.12"
  }
 },
 "nbformat": 4,
 "nbformat_minor": 5
}
